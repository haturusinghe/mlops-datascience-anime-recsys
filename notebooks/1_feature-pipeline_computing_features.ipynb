{
 "cells": [
  {
   "cell_type": "code",
   "execution_count": null,
   "id": "d212dfab",
   "metadata": {},
   "outputs": [],
   "source": [
    "import time\n",
    "\n",
    "notebook_start_time = time.time()"
   ]
  },
  {
   "cell_type": "markdown",
   "id": "75519a5d",
   "metadata": {},
   "source": [
    "# Setup Environment"
   ]
  },
  {
   "cell_type": "code",
   "execution_count": 4,
   "id": "0ae33787",
   "metadata": {},
   "outputs": [
    {
     "name": "stdout",
     "output_type": "stream",
     "text": [
      "Not running in Google Colab\n",
      "Adding /home/haturusinghe/recsys-decoding_ml/my-anime-recsys to sys.path\n"
     ]
    }
   ],
   "source": [
    "import sys\n",
    "from pathlib import Path\n",
    "\n",
    "def is_google_colab():\n",
    "    try:\n",
    "        import google.colab\n",
    "        return True\n",
    "    except ImportError:\n",
    "        return False\n",
    "    \n",
    "if is_google_colab():\n",
    "    print(\"Running in Google Colab\")\n",
    "else:\n",
    "    print(\"Not running in Google Colab\")\n",
    "    root_dir = str(Path().absolute().parent)\n",
    "\n",
    "if root_dir not in sys.path:\n",
    "    print(f\"Adding {root_dir} to sys.path\")\n",
    "    sys.path.append(root_dir)"
   ]
  }
 ],
 "metadata": {
  "kernelspec": {
   "display_name": ".venv",
   "language": "python",
   "name": "python3"
  },
  "language_info": {
   "codemirror_mode": {
    "name": "ipython",
    "version": 3
   },
   "file_extension": ".py",
   "mimetype": "text/x-python",
   "name": "python",
   "nbconvert_exporter": "python",
   "pygments_lexer": "ipython3",
   "version": "3.11.8"
  }
 },
 "nbformat": 4,
 "nbformat_minor": 5
}
