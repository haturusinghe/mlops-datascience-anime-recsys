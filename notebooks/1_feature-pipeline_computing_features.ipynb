{
 "cells": [
  {
   "cell_type": "code",
   "execution_count": 19,
   "id": "d212dfab",
   "metadata": {},
   "outputs": [],
   "source": [
    "import time\n",
    "\n",
    "notebook_start_time = time.time()"
   ]
  },
  {
   "cell_type": "markdown",
   "id": "75519a5d",
   "metadata": {},
   "source": [
    "# Setup Environment"
   ]
  },
  {
   "cell_type": "code",
   "execution_count": 20,
   "id": "0ae33787",
   "metadata": {},
   "outputs": [
    {
     "name": "stdout",
     "output_type": "stream",
     "text": [
      "Not running in Google Colab\n"
     ]
    }
   ],
   "source": [
    "import sys\n",
    "from pathlib import Path\n",
    "\n",
    "def is_google_colab():\n",
    "    try:\n",
    "        import google.colab\n",
    "        return True\n",
    "    except ImportError:\n",
    "        return False\n",
    "    \n",
    "if is_google_colab():\n",
    "    print(\"Running in Google Colab\")\n",
    "else:\n",
    "    print(\"Not running in Google Colab\")\n",
    "    root_dir = str(Path().absolute().parent)\n",
    "\n",
    "if root_dir not in sys.path:\n",
    "    print(f\"Adding {root_dir} to sys.path\")\n",
    "    sys.path.append(root_dir)"
   ]
  },
  {
   "cell_type": "markdown",
   "id": "c72eb9d3",
   "metadata": {},
   "source": [
    "# Feature Pipeline"
   ]
  },
  {
   "cell_type": "markdown",
   "id": "92563fae",
   "metadata": {},
   "source": [
    "## Imports"
   ]
  },
  {
   "cell_type": "code",
   "execution_count": 28,
   "id": "e4664488",
   "metadata": {},
   "outputs": [
    {
     "name": "stdout",
     "output_type": "stream",
     "text": [
      "The autoreload extension is already loaded. To reload it, use:\n",
      "  %reload_ext autoreload\n"
     ]
    }
   ],
   "source": [
    "%load_ext autoreload\n",
    "%autoreload 2\n",
    "\n",
    "import warnings\n",
    "from pprint import pprint\n",
    "\n",
    "import polars as pl\n",
    "import torch\n",
    "from loguru import logger\n",
    "from sentence_transformers import SentenceTransformer\n",
    "\n",
    "warnings.filterwarnings(\"ignore\")\n",
    "\n",
    "from recsys.raw_data_sources import myanimelist_dataset\n",
    "from recsys.features.anime import (compute_features_of_anime)"
   ]
  },
  {
   "cell_type": "markdown",
   "id": "cac8ea62",
   "metadata": {},
   "source": [
    "## MyAnimeList Dataset"
   ]
  },
  {
   "cell_type": "markdown",
   "id": "00aa4f6d",
   "metadata": {},
   "source": [
    "### Anime Data"
   ]
  },
  {
   "cell_type": "markdown",
   "id": "ee661e3a",
   "metadata": {},
   "source": [
    "- MAL_ID - MyAnimelist ID of the anime."
   ]
  },
  {
   "cell_type": "code",
   "execution_count": 50,
   "id": "63779a12",
   "metadata": {},
   "outputs": [
    {
     "data": {
      "text/plain": [
       "(16214, 36)"
      ]
     },
     "execution_count": 50,
     "metadata": {},
     "output_type": "execute_result"
    }
   ],
   "source": [
    "anime_df = myanimelist_dataset.extract_anime_data()\n",
    "anime_df.shape"
   ]
  },
  {
   "cell_type": "code",
   "execution_count": 51,
   "id": "042a3a0f",
   "metadata": {},
   "outputs": [
    {
     "data": {
      "text/html": [
       "<div><style>\n",
       ".dataframe > thead > tr,\n",
       ".dataframe > tbody > tr {\n",
       "  text-align: right;\n",
       "  white-space: pre-wrap;\n",
       "}\n",
       "</style>\n",
       "<small>shape: (3, 36)</small><table border=\"1\" class=\"dataframe\"><thead><tr><th>MAL_ID</th><th>Name</th><th>Score</th><th>Genres</th><th>English name</th><th>Japanese name</th><th>Type</th><th>Episodes</th><th>Aired</th><th>Premiered</th><th>Producers</th><th>Licensors</th><th>Studios</th><th>Source</th><th>Duration</th><th>Rating</th><th>Ranked</th><th>Popularity</th><th>Members</th><th>Favorites</th><th>Watching</th><th>Completed</th><th>On-Hold</th><th>Dropped</th><th>Plan to Watch</th><th>Score-10</th><th>Score-9</th><th>Score-8</th><th>Score-7</th><th>Score-6</th><th>Score-5</th><th>Score-4</th><th>Score-3</th><th>Score-2</th><th>Score-1</th><th>Synopsis</th></tr><tr><td>i64</td><td>str</td><td>f64</td><td>str</td><td>str</td><td>str</td><td>str</td><td>i64</td><td>str</td><td>str</td><td>str</td><td>str</td><td>str</td><td>str</td><td>str</td><td>str</td><td>f64</td><td>i64</td><td>i64</td><td>i64</td><td>i64</td><td>i64</td><td>i64</td><td>i64</td><td>i64</td><td>f64</td><td>f64</td><td>f64</td><td>f64</td><td>f64</td><td>f64</td><td>f64</td><td>f64</td><td>f64</td><td>f64</td><td>str</td></tr></thead><tbody><tr><td>1</td><td>&quot;Cowboy Bebop&quot;</td><td>8.78</td><td>&quot;Action, Adventure, Comedy, Dra…</td><td>&quot;Cowboy Bebop&quot;</td><td>&quot;カウボーイビバップ&quot;</td><td>&quot;TV&quot;</td><td>26</td><td>&quot;Apr 3, 1998 to Apr 24, 1999&quot;</td><td>&quot;Spring 1998&quot;</td><td>&quot;Bandai Visual&quot;</td><td>&quot;Funimation, Bandai Entertainme…</td><td>&quot;Sunrise&quot;</td><td>&quot;Original&quot;</td><td>&quot;24 min. per ep.&quot;</td><td>&quot;R - 17+ (violence &amp; profanity)&quot;</td><td>28.0</td><td>39</td><td>1251960</td><td>61971</td><td>105808</td><td>718161</td><td>71513</td><td>26678</td><td>329800</td><td>229170.0</td><td>182126.0</td><td>131625.0</td><td>62330.0</td><td>20688.0</td><td>8904.0</td><td>3184.0</td><td>1357.0</td><td>741.0</td><td>1580.0</td><td>&quot;In the year 2071, humanity has…</td></tr><tr><td>5</td><td>&quot;Cowboy Bebop: Tengoku no Tobir…</td><td>8.39</td><td>&quot;Action, Drama, Mystery, Sci-Fi…</td><td>&quot;Cowboy Bebop:The Movie&quot;</td><td>&quot;カウボーイビバップ 天国の扉&quot;</td><td>&quot;Movie&quot;</td><td>1</td><td>&quot;Sep 1, 2001&quot;</td><td>null</td><td>&quot;Sunrise, Bandai Visual&quot;</td><td>&quot;Sony Pictures Entertainment&quot;</td><td>&quot;Bones&quot;</td><td>&quot;Original&quot;</td><td>&quot;1 hr. 55 min.&quot;</td><td>&quot;R - 17+ (violence &amp; profanity)&quot;</td><td>159.0</td><td>518</td><td>273145</td><td>1174</td><td>4143</td><td>208333</td><td>1935</td><td>770</td><td>57964</td><td>30043.0</td><td>49201.0</td><td>49505.0</td><td>22632.0</td><td>5805.0</td><td>1877.0</td><td>577.0</td><td>221.0</td><td>109.0</td><td>379.0</td><td>&quot;other day, another bounty—such…</td></tr><tr><td>6</td><td>&quot;Trigun&quot;</td><td>8.24</td><td>&quot;Action, Sci-Fi, Adventure, Com…</td><td>&quot;Trigun&quot;</td><td>&quot;トライガン&quot;</td><td>&quot;TV&quot;</td><td>26</td><td>&quot;Apr 1, 1998 to Sep 30, 1998&quot;</td><td>&quot;Spring 1998&quot;</td><td>&quot;Victor Entertainment&quot;</td><td>&quot;Funimation, Geneon Entertainme…</td><td>&quot;Madhouse&quot;</td><td>&quot;Manga&quot;</td><td>&quot;24 min. per ep.&quot;</td><td>&quot;PG-13 - Teens 13 or older&quot;</td><td>266.0</td><td>201</td><td>558913</td><td>12944</td><td>29113</td><td>343492</td><td>25465</td><td>13925</td><td>146918</td><td>50229.0</td><td>75651.0</td><td>86142.0</td><td>49432.0</td><td>15376.0</td><td>5838.0</td><td>1965.0</td><td>664.0</td><td>316.0</td><td>533.0</td><td>&quot;Vash the Stampede is the man w…</td></tr></tbody></table></div>"
      ],
      "text/plain": [
       "shape: (3, 36)\n",
       "┌────────┬───────────────┬───────┬───────────────┬───┬─────────┬─────────┬─────────┬───────────────┐\n",
       "│ MAL_ID ┆ Name          ┆ Score ┆ Genres        ┆ … ┆ Score-3 ┆ Score-2 ┆ Score-1 ┆ Synopsis      │\n",
       "│ ---    ┆ ---           ┆ ---   ┆ ---           ┆   ┆ ---     ┆ ---     ┆ ---     ┆ ---           │\n",
       "│ i64    ┆ str           ┆ f64   ┆ str           ┆   ┆ f64     ┆ f64     ┆ f64     ┆ str           │\n",
       "╞════════╪═══════════════╪═══════╪═══════════════╪═══╪═════════╪═════════╪═════════╪═══════════════╡\n",
       "│ 1      ┆ Cowboy Bebop  ┆ 8.78  ┆ Action,       ┆ … ┆ 1357.0  ┆ 741.0   ┆ 1580.0  ┆ In the year   │\n",
       "│        ┆               ┆       ┆ Adventure,    ┆   ┆         ┆         ┆         ┆ 2071,         │\n",
       "│        ┆               ┆       ┆ Comedy, Dra…  ┆   ┆         ┆         ┆         ┆ humanity has… │\n",
       "│ 5      ┆ Cowboy Bebop: ┆ 8.39  ┆ Action,       ┆ … ┆ 221.0   ┆ 109.0   ┆ 379.0   ┆ other day,    │\n",
       "│        ┆ Tengoku no    ┆       ┆ Drama,        ┆   ┆         ┆         ┆         ┆ another       │\n",
       "│        ┆ Tobir…        ┆       ┆ Mystery,      ┆   ┆         ┆         ┆         ┆ bounty—such…  │\n",
       "│        ┆               ┆       ┆ Sci-Fi…       ┆   ┆         ┆         ┆         ┆               │\n",
       "│ 6      ┆ Trigun        ┆ 8.24  ┆ Action,       ┆ … ┆ 664.0   ┆ 316.0   ┆ 533.0   ┆ Vash the      │\n",
       "│        ┆               ┆       ┆ Sci-Fi,       ┆   ┆         ┆         ┆         ┆ Stampede is   │\n",
       "│        ┆               ┆       ┆ Adventure,    ┆   ┆         ┆         ┆         ┆ the man w…    │\n",
       "│        ┆               ┆       ┆ Com…          ┆   ┆         ┆         ┆         ┆               │\n",
       "└────────┴───────────────┴───────┴───────────────┴───┴─────────┴─────────┴─────────┴───────────────┘"
      ]
     },
     "execution_count": 51,
     "metadata": {},
     "output_type": "execute_result"
    }
   ],
   "source": [
    "anime_df.head(3)"
   ]
  },
  {
   "cell_type": "code",
   "execution_count": 52,
   "id": "7d508671",
   "metadata": {},
   "outputs": [
    {
     "data": {
      "text/plain": [
       "(10899, 38)"
      ]
     },
     "execution_count": 52,
     "metadata": {},
     "output_type": "execute_result"
    }
   ],
   "source": [
    "anime_df = compute_features_of_anime(anime_df)\n",
    "anime_df.shape\n"
   ]
  },
  {
   "cell_type": "markdown",
   "id": "6feafef7",
   "metadata": {},
   "source": [
    "#### Create an embedding for each anime description"
   ]
  },
  {
   "cell_type": "code",
   "execution_count": 53,
   "id": "aa762333",
   "metadata": {},
   "outputs": [
    {
     "name": "stderr",
     "output_type": "stream",
     "text": [
      "\u001b[32m2025-04-12 19:45:36.689\u001b[0m | \u001b[1mINFO    \u001b[0m | \u001b[36m__main__\u001b[0m:\u001b[36m<module>\u001b[0m:\u001b[36m2\u001b[0m - \u001b[1mItem 1:\n",
      "Cowboy Bebop is a TV anime with a rating of 8.78/10.\n",
      "It has 26 episodes and was released in Apr 3, 1998 to Apr 24, 1999. It is rated R - 17+ (violence & profanity) and it is ranked 39, of Most Popular Anime.\n",
      "It belongs to the Action, Adventure, Comedy, Drama, Sci-Fi, Space genres.\n",
      "It has a synopsis of In the year 2071, humanity has colonized several of the planets and moons of the solar system leaving the now uninhabitable surface of planet Earth behind. The Inter Solar System Police attempts to keep peace in the galaxy, aided in part by outlaw bounty hunters, referred to as \"Cowboys.\" The ragtag team aboard the spaceship Bebop are two such individuals. Mellow and carefree Spike Spiegel is balanced by his boisterous, pragmatic partner Jet Black as the pair makes a living chasing bounties and collecting rewards. Thrown off course by the addition of new members that they meet in their travels—Ein, a genetically engineered, highly intelligent Welsh Corgi; femme fatale Faye Valentine, an enigmatic trickster with memory loss; and the strange computer whiz kid Edward Wong—the crew embarks on thrilling adventures that unravel each member's dark and mysterious past little by little. Well-balanced with high density action and light-hearted comedy, Cowboy Bebop is a space Western classic and an homage to the smooth and improvised music it is named after..\n",
      "\u001b[0m\n",
      "\u001b[32m2025-04-12 19:45:36.692\u001b[0m | \u001b[1mINFO    \u001b[0m | \u001b[36m__main__\u001b[0m:\u001b[36m<module>\u001b[0m:\u001b[36m2\u001b[0m - \u001b[1mItem 2:\n",
      "Cowboy Bebop: Tengoku no Tobira is a Movie anime with a rating of 8.39/10.\n",
      "It has 1 episodes and was released in Sep 1, 2001. It is rated R - 17+ (violence & profanity) and it is ranked 518, of Most Popular Anime.\n",
      "It belongs to the Action, Drama, Mystery, Sci-Fi, Space genres.\n",
      "It has a synopsis of other day, another bounty—such is the life of the often unlucky crew of the Bebop. However, this routine is interrupted when Faye, who is chasing a fairly worthless target on Mars, witnesses an oil tanker suddenly explode, causing mass hysteria. As casualties mount due to a strange disease spreading through the smoke from the blast, a whopping three hundred million woolong price is placed on the head of the supposed perpetrator. With lives at stake and a solution to their money problems in sight, the Bebop crew springs into action. Spike, Jet, Faye, and Edward, followed closely by Ein, split up to pursue different leads across Alba City. Through their individual investigations, they discover a cover-up scheme involving a pharmaceutical company, revealing a plot that reaches much further than the ragtag team of bounty hunters could have realized..\n",
      "\u001b[0m\n",
      "\u001b[32m2025-04-12 19:45:36.693\u001b[0m | \u001b[1mINFO    \u001b[0m | \u001b[36m__main__\u001b[0m:\u001b[36m<module>\u001b[0m:\u001b[36m2\u001b[0m - \u001b[1mItem 3:\n",
      "Trigun is a TV anime with a rating of 8.24/10.\n",
      "It has 26 episodes and was released in Apr 1, 1998 to Sep 30, 1998. It is rated PG-13 - Teens 13 or older and it is ranked 201, of Most Popular Anime.\n",
      "It belongs to the Action, Sci-Fi, Adventure, Comedy, Drama, Shounen genres.\n",
      "It has a synopsis of Vash the Stampede is the man with a $$60,000,000,000 bounty on his head. The reason: he's a merciless villain who lays waste to all those that oppose him and flattens entire cities for fun, garnering him the title \"The Humanoid Typhoon.\" He leaves a trail of death and destruction wherever he goes, and anyone can count themselves dead if they so much as make eye contact—or so the rumors say. In actuality, Vash is a huge softie who claims to have never taken a life and avoids violence at all costs. With his crazy doughnut obsession and buffoonish attitude in tow, Vash traverses the wasteland of the planet Gunsmoke, all the while followed by two insurance agents, Meryl Stryfe and Milly Thompson, who attempt to minimize his impact on the public. But soon, their misadventures evolve into life-or-death situations as a group of legendary assassins are summoned to bring about suffering to the trio. Vash's agonizing past will be unraveled and his morality and principles pushed to the breaking point..\n",
      "\u001b[0m\n"
     ]
    }
   ],
   "source": [
    "for i, desc in enumerate(anime_df[\"description\"].head(n=3)):\n",
    "    logger.info(f\"Item {i+1}:\\n{desc}\")"
   ]
  }
 ],
 "metadata": {
  "kernelspec": {
   "display_name": ".venv",
   "language": "python",
   "name": "python3"
  },
  "language_info": {
   "codemirror_mode": {
    "name": "ipython",
    "version": 3
   },
   "file_extension": ".py",
   "mimetype": "text/x-python",
   "name": "python",
   "nbconvert_exporter": "python",
   "pygments_lexer": "ipython3",
   "version": "3.11.8"
  }
 },
 "nbformat": 4,
 "nbformat_minor": 5
}
