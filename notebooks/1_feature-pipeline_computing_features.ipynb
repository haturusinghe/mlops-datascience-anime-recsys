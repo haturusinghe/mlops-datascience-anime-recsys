{
  "cells": [
    {
      "cell_type": "code",
      "execution_count": null,
      "id": "d212dfab",
      "metadata": {
        "id": "d212dfab"
      },
      "outputs": [],
      "source": [
        "import time\n",
        "\n",
        "notebook_start_time = time.time()"
      ]
    },
    {
      "cell_type": "markdown",
      "id": "75519a5d",
      "metadata": {
        "id": "75519a5d"
      },
      "source": [
        "# Setup Environment"
      ]
    },
    {
      "cell_type": "code",
      "source": [
        "import sys\n",
        "from pathlib import Path\n",
        "from IPython import get_ipython"
      ],
      "metadata": {
        "id": "Iq0T9uCTJ4Sy"
      },
      "id": "Iq0T9uCTJ4Sy",
      "execution_count": null,
      "outputs": []
    },
    {
      "cell_type": "code",
      "source": [
        "def is_google_colab() -> bool:\n",
        "    if \"google.colab\" in str(get_ipython()):\n",
        "        return True\n",
        "    return False"
      ],
      "metadata": {
        "id": "7SihkK8NJ5KK"
      },
      "id": "7SihkK8NJ5KK",
      "execution_count": null,
      "outputs": []
    },
    {
      "cell_type": "code",
      "execution_count": null,
      "id": "0ae33787",
      "metadata": {
        "id": "0ae33787"
      },
      "outputs": [],
      "source": [
        "def clone_repository() -> None:\n",
        "    !git clone https://github.com/haturusinghe/mlops-datascience-anime-recsys.git\n",
        "    %cd mlops-datascience-anime-recsys/\n",
        "\n",
        "\n",
        "def install_dependencies() -> None:\n",
        "    !pip install --upgrade uv\n",
        "    !!uv pip install --all-extras --system --prerelease disallow --requirement pyproject.toml\n",
        "\n",
        "\n",
        "if is_google_colab():\n",
        "    clone_repository()\n",
        "    install_dependencies()\n",
        "\n",
        "    root_dir = str(Path().absolute())\n",
        "    print(\"⛳️ Google Colab environment\")\n",
        "else:\n",
        "    root_dir = str(Path().absolute().parent)\n",
        "    print(\"⛳️ Local environment\")\n",
        "\n",
        "# Add the root directory to the `PYTHONPATH` to use the `recsys` Python module from the notebook.\n",
        "if root_dir not in sys.path:\n",
        "    print(f\"Adding the following directory to the PYTHONPATH: {root_dir}\")\n",
        "    sys.path.append(root_dir)"
      ]
    },
    {
      "cell_type": "code",
      "source": [
        "import os\n",
        "\n",
        "if os.getcwd() != '/content/mlops-datascience-anime-recsys':\n",
        "    %cd mlops-datascience-anime-recsys"
      ],
      "metadata": {
        "id": "J0Eab17pLtsE"
      },
      "id": "J0Eab17pLtsE",
      "execution_count": null,
      "outputs": []
    },
    {
      "cell_type": "code",
      "source": [
        "if is_google_colab():\n",
        "    root_dir = str(Path().absolute())\n",
        "    print(\"⛳️ Google Colab environment\")\n",
        "else:\n",
        "    root_dir = str(Path().absolute().parent)\n",
        "    print(\"⛳️ Local environment\")\n",
        "\n",
        "# Add the root directory to the `PYTHONPATH` to use the `recsys` Python module from the notebook.\n",
        "if root_dir not in sys.path:\n",
        "    print(f\"Adding the following directory to the PYTHONPATH: {root_dir}\")\n",
        "    sys.path.append(root_dir)"
      ],
      "metadata": {
        "id": "fOeGiPx6JxCn"
      },
      "id": "fOeGiPx6JxCn",
      "execution_count": null,
      "outputs": []
    },
    {
      "cell_type": "markdown",
      "id": "c72eb9d3",
      "metadata": {
        "id": "c72eb9d3"
      },
      "source": [
        "# Feature Pipeline"
      ]
    },
    {
      "cell_type": "markdown",
      "id": "92563fae",
      "metadata": {
        "id": "92563fae"
      },
      "source": [
        "## Imports"
      ]
    },
    {
      "cell_type": "code",
      "execution_count": null,
      "id": "e4664488",
      "metadata": {
        "id": "e4664488"
      },
      "outputs": [],
      "source": [
        "# %load_ext autoreload\n",
        "# %autoreload 2\n",
        "\n",
        "import warnings\n",
        "from pprint import pprint\n",
        "\n",
        "import polars as pl\n",
        "import torch\n",
        "from loguru import logger\n",
        "from sentence_transformers import SentenceTransformer\n",
        "\n",
        "warnings.filterwarnings(\"ignore\")\n",
        "\n",
        "from recsys.raw_data_sources import myanimelist_dataset\n",
        "from recsys.features.anime import (compute_features_of_anime, generate_embeddings_for_dataframe)\n",
        "from recsys.features.user import (compute_features_of_user)\n",
        "from recsys.config import settings"
      ]
    },
    {
      "cell_type": "code",
      "execution_count": null,
      "id": "4ffd1f7b",
      "metadata": {
        "id": "4ffd1f7b"
      },
      "outputs": [],
      "source": [
        "device = (\n",
        "    \"cuda\"\n",
        "    if torch.cuda.is_available()\n",
        "    else \"mps\"\n",
        "    if torch.backends.mps.is_available()\n",
        "    else \"cpu\"\n",
        ")"
      ]
    },
    {
      "cell_type": "code",
      "execution_count": null,
      "id": "5328972e",
      "metadata": {
        "id": "5328972e"
      },
      "outputs": [],
      "source": [
        "print(dict(settings))"
      ]
    },
    {
      "cell_type": "markdown",
      "id": "cac8ea62",
      "metadata": {
        "id": "cac8ea62"
      },
      "source": [
        "## MyAnimeList Dataset"
      ]
    },
    {
      "cell_type": "markdown",
      "id": "00aa4f6d",
      "metadata": {
        "id": "00aa4f6d"
      },
      "source": [
        "### Anime Data"
      ]
    },
    {
      "cell_type": "markdown",
      "id": "ee661e3a",
      "metadata": {
        "id": "ee661e3a"
      },
      "source": [
        "- MAL_ID - MyAnimelist ID of the anime."
      ]
    },
    {
      "cell_type": "code",
      "execution_count": null,
      "id": "63779a12",
      "metadata": {
        "id": "63779a12"
      },
      "outputs": [],
      "source": [
        "anime_df = myanimelist_dataset.extract_anime_data()\n",
        "anime_df.shape"
      ]
    },
    {
      "cell_type": "code",
      "execution_count": null,
      "id": "042a3a0f",
      "metadata": {
        "id": "042a3a0f"
      },
      "outputs": [],
      "source": [
        "anime_df.head(3)"
      ]
    },
    {
      "cell_type": "code",
      "execution_count": null,
      "id": "7d508671",
      "metadata": {
        "id": "7d508671"
      },
      "outputs": [],
      "source": [
        "anime_df = compute_features_of_anime(anime_df)\n",
        "anime_df.shape\n"
      ]
    },
    {
      "cell_type": "markdown",
      "id": "6feafef7",
      "metadata": {
        "id": "6feafef7"
      },
      "source": [
        "#### Create an embedding for each anime description"
      ]
    },
    {
      "cell_type": "code",
      "execution_count": null,
      "id": "aa762333",
      "metadata": {
        "id": "aa762333"
      },
      "outputs": [],
      "source": [
        "for i, desc in enumerate(anime_df[\"description\"].head(n=3)):\n",
        "    logger.info(f\"Item {i+1}:\\n{desc}\")"
      ]
    },
    {
      "cell_type": "code",
      "execution_count": null,
      "id": "72b3c572",
      "metadata": {
        "id": "72b3c572"
      },
      "outputs": [],
      "source": [
        "logger.info(\n",
        "    f\"Loading '{settings.FEATURES_EMBEDDING_MODEL_ID}' embedding model to {device=}\"\n",
        ")"
      ]
    },
    {
      "cell_type": "code",
      "execution_count": null,
      "id": "df61a224",
      "metadata": {
        "id": "df61a224"
      },
      "outputs": [],
      "source": [
        "# Load the embedding model from SentenceTransformer's model registry.\n",
        "model = SentenceTransformer(settings.FEATURES_EMBEDDING_MODEL_ID, device=device)"
      ]
    },
    {
      "cell_type": "code",
      "execution_count": null,
      "id": "abc0a09f",
      "metadata": {
        "id": "abc0a09f"
      },
      "outputs": [],
      "source": [
        "anime_df = generate_embeddings_for_dataframe(\n",
        "    anime_df,\n",
        "    model=model,\n",
        "    embedding_column_name=\"description\",\n",
        "    batch_size=128,\n",
        ")"
      ]
    },
    {
      "cell_type": "code",
      "execution_count": null,
      "id": "0c67855a",
      "metadata": {
        "id": "0c67855a"
      },
      "outputs": [],
      "source": [
        "anime_df[[\"article_description\", \"embeddings\"]].head(3)"
      ]
    },
    {
      "cell_type": "markdown",
      "id": "95bb7f10",
      "metadata": {
        "id": "95bb7f10"
      },
      "source": [
        "## User Data"
      ]
    },
    {
      "cell_type": "code",
      "execution_count": null,
      "id": "33c8bbb7",
      "metadata": {
        "id": "33c8bbb7"
      },
      "outputs": [],
      "source": [
        "users_df = myanimelist_dataset.extract_user_data()\n",
        "users_df.shape"
      ]
    },
    {
      "cell_type": "code",
      "execution_count": null,
      "id": "394459c2",
      "metadata": {
        "id": "394459c2"
      },
      "outputs": [],
      "source": [
        "users_df.head(3)"
      ]
    },
    {
      "cell_type": "code",
      "execution_count": null,
      "id": "e4785675",
      "metadata": {
        "id": "e4785675"
      },
      "outputs": [],
      "source": [
        "users_df.null_count()"
      ]
    },
    {
      "cell_type": "code",
      "execution_count": null,
      "id": "0fee03f1",
      "metadata": {
        "id": "0fee03f1"
      },
      "outputs": [],
      "source": [
        "users_df = compute_features_of_user(users_df)"
      ]
    }
  ],
  "metadata": {
    "kernelspec": {
      "display_name": ".venv",
      "language": "python",
      "name": "python3"
    },
    "language_info": {
      "codemirror_mode": {
        "name": "ipython",
        "version": 3
      },
      "file_extension": ".py",
      "mimetype": "text/x-python",
      "name": "python",
      "nbconvert_exporter": "python",
      "pygments_lexer": "ipython3",
      "version": "3.11.8"
    },
    "colab": {
      "provenance": []
    }
  },
  "nbformat": 4,
  "nbformat_minor": 5
}