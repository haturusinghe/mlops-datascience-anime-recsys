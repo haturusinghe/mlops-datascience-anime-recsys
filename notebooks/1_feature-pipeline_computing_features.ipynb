{
 "cells": [
  {
   "cell_type": "code",
   "execution_count": 19,
   "id": "d212dfab",
   "metadata": {},
   "outputs": [],
   "source": [
    "import time\n",
    "\n",
    "notebook_start_time = time.time()"
   ]
  },
  {
   "cell_type": "markdown",
   "id": "75519a5d",
   "metadata": {},
   "source": [
    "# Setup Environment"
   ]
  },
  {
   "cell_type": "code",
   "execution_count": 20,
   "id": "0ae33787",
   "metadata": {},
   "outputs": [
    {
     "name": "stdout",
     "output_type": "stream",
     "text": [
      "Not running in Google Colab\n"
     ]
    }
   ],
   "source": [
    "import sys\n",
    "from pathlib import Path\n",
    "\n",
    "def is_google_colab():\n",
    "    try:\n",
    "        import google.colab\n",
    "        return True\n",
    "    except ImportError:\n",
    "        return False\n",
    "    \n",
    "if is_google_colab():\n",
    "    print(\"Running in Google Colab\")\n",
    "else:\n",
    "    print(\"Not running in Google Colab\")\n",
    "    root_dir = str(Path().absolute().parent)\n",
    "\n",
    "if root_dir not in sys.path:\n",
    "    print(f\"Adding {root_dir} to sys.path\")\n",
    "    sys.path.append(root_dir)"
   ]
  },
  {
   "cell_type": "markdown",
   "id": "c72eb9d3",
   "metadata": {},
   "source": [
    "# Feature Pipeline"
   ]
  },
  {
   "cell_type": "markdown",
   "id": "92563fae",
   "metadata": {},
   "source": [
    "## Imports"
   ]
  },
  {
   "cell_type": "code",
   "execution_count": 21,
   "id": "e4664488",
   "metadata": {},
   "outputs": [
    {
     "name": "stdout",
     "output_type": "stream",
     "text": [
      "The autoreload extension is already loaded. To reload it, use:\n",
      "  %reload_ext autoreload\n"
     ]
    }
   ],
   "source": [
    "%load_ext autoreload\n",
    "%autoreload 2\n",
    "\n",
    "import warnings\n",
    "from pprint import pprint\n",
    "\n",
    "import polars as pl\n",
    "import torch\n",
    "from loguru import logger\n",
    "from sentence_transformers import SentenceTransformer\n",
    "\n",
    "warnings.filterwarnings(\"ignore\")\n",
    "\n",
    "from recsys.raw_data_sources import myanimelist_dataset"
   ]
  },
  {
   "cell_type": "markdown",
   "id": "cac8ea62",
   "metadata": {},
   "source": [
    "## MyAnimeList Dataset"
   ]
  },
  {
   "cell_type": "markdown",
   "id": "00aa4f6d",
   "metadata": {},
   "source": [
    "### Anime Data"
   ]
  },
  {
   "cell_type": "markdown",
   "id": "ee661e3a",
   "metadata": {},
   "source": [
    "- MAL_ID - MyAnimelist ID of the anime."
   ]
  },
  {
   "cell_type": "code",
   "execution_count": 25,
   "id": "63779a12",
   "metadata": {},
   "outputs": [
    {
     "data": {
      "text/plain": [
       "(16214, 36)"
      ]
     },
     "execution_count": 25,
     "metadata": {},
     "output_type": "execute_result"
    }
   ],
   "source": [
    "anime_df = myanimelist_dataset.extract_anime_data()\n",
    "anime_df.shape"
   ]
  },
  {
   "cell_type": "code",
   "execution_count": 26,
   "id": "042a3a0f",
   "metadata": {},
   "outputs": [
    {
     "data": {
      "text/html": [
       "<div><style>\n",
       ".dataframe > thead > tr,\n",
       ".dataframe > tbody > tr {\n",
       "  text-align: right;\n",
       "  white-space: pre-wrap;\n",
       "}\n",
       "</style>\n",
       "<small>shape: (3, 36)</small><table border=\"1\" class=\"dataframe\"><thead><tr><th>MAL_ID</th><th>Name</th><th>Score</th><th>Genres</th><th>English name</th><th>Japanese name</th><th>Type</th><th>Episodes</th><th>Aired</th><th>Premiered</th><th>Producers</th><th>Licensors</th><th>Studios</th><th>Source</th><th>Duration</th><th>Rating</th><th>Ranked</th><th>Popularity</th><th>Members</th><th>Favorites</th><th>Watching</th><th>Completed</th><th>On-Hold</th><th>Dropped</th><th>Plan to Watch</th><th>Score-10</th><th>Score-9</th><th>Score-8</th><th>Score-7</th><th>Score-6</th><th>Score-5</th><th>Score-4</th><th>Score-3</th><th>Score-2</th><th>Score-1</th><th>sypnopsis</th></tr><tr><td>i64</td><td>str</td><td>f64</td><td>str</td><td>str</td><td>str</td><td>str</td><td>i64</td><td>str</td><td>str</td><td>str</td><td>str</td><td>str</td><td>str</td><td>str</td><td>str</td><td>f64</td><td>i64</td><td>i64</td><td>i64</td><td>i64</td><td>i64</td><td>i64</td><td>i64</td><td>i64</td><td>f64</td><td>f64</td><td>f64</td><td>f64</td><td>f64</td><td>f64</td><td>f64</td><td>f64</td><td>f64</td><td>f64</td><td>str</td></tr></thead><tbody><tr><td>1</td><td>&quot;Cowboy Bebop&quot;</td><td>8.78</td><td>&quot;Action, Adventure, Comedy, Dra…</td><td>&quot;Cowboy Bebop&quot;</td><td>&quot;カウボーイビバップ&quot;</td><td>&quot;TV&quot;</td><td>26</td><td>&quot;Apr 3, 1998 to Apr 24, 1999&quot;</td><td>&quot;Spring 1998&quot;</td><td>&quot;Bandai Visual&quot;</td><td>&quot;Funimation, Bandai Entertainme…</td><td>&quot;Sunrise&quot;</td><td>&quot;Original&quot;</td><td>&quot;24 min. per ep.&quot;</td><td>&quot;R - 17+ (violence &amp; profanity)&quot;</td><td>28.0</td><td>39</td><td>1251960</td><td>61971</td><td>105808</td><td>718161</td><td>71513</td><td>26678</td><td>329800</td><td>229170.0</td><td>182126.0</td><td>131625.0</td><td>62330.0</td><td>20688.0</td><td>8904.0</td><td>3184.0</td><td>1357.0</td><td>741.0</td><td>1580.0</td><td>&quot;In the year 2071, humanity has…</td></tr><tr><td>5</td><td>&quot;Cowboy Bebop: Tengoku no Tobir…</td><td>8.39</td><td>&quot;Action, Drama, Mystery, Sci-Fi…</td><td>&quot;Cowboy Bebop:The Movie&quot;</td><td>&quot;カウボーイビバップ 天国の扉&quot;</td><td>&quot;Movie&quot;</td><td>1</td><td>&quot;Sep 1, 2001&quot;</td><td>null</td><td>&quot;Sunrise, Bandai Visual&quot;</td><td>&quot;Sony Pictures Entertainment&quot;</td><td>&quot;Bones&quot;</td><td>&quot;Original&quot;</td><td>&quot;1 hr. 55 min.&quot;</td><td>&quot;R - 17+ (violence &amp; profanity)&quot;</td><td>159.0</td><td>518</td><td>273145</td><td>1174</td><td>4143</td><td>208333</td><td>1935</td><td>770</td><td>57964</td><td>30043.0</td><td>49201.0</td><td>49505.0</td><td>22632.0</td><td>5805.0</td><td>1877.0</td><td>577.0</td><td>221.0</td><td>109.0</td><td>379.0</td><td>&quot;other day, another bounty—such…</td></tr><tr><td>6</td><td>&quot;Trigun&quot;</td><td>8.24</td><td>&quot;Action, Sci-Fi, Adventure, Com…</td><td>&quot;Trigun&quot;</td><td>&quot;トライガン&quot;</td><td>&quot;TV&quot;</td><td>26</td><td>&quot;Apr 1, 1998 to Sep 30, 1998&quot;</td><td>&quot;Spring 1998&quot;</td><td>&quot;Victor Entertainment&quot;</td><td>&quot;Funimation, Geneon Entertainme…</td><td>&quot;Madhouse&quot;</td><td>&quot;Manga&quot;</td><td>&quot;24 min. per ep.&quot;</td><td>&quot;PG-13 - Teens 13 or older&quot;</td><td>266.0</td><td>201</td><td>558913</td><td>12944</td><td>29113</td><td>343492</td><td>25465</td><td>13925</td><td>146918</td><td>50229.0</td><td>75651.0</td><td>86142.0</td><td>49432.0</td><td>15376.0</td><td>5838.0</td><td>1965.0</td><td>664.0</td><td>316.0</td><td>533.0</td><td>&quot;Vash the Stampede is the man w…</td></tr></tbody></table></div>"
      ],
      "text/plain": [
       "shape: (3, 36)\n",
       "┌────────┬───────────────┬───────┬───────────────┬───┬─────────┬─────────┬─────────┬───────────────┐\n",
       "│ MAL_ID ┆ Name          ┆ Score ┆ Genres        ┆ … ┆ Score-3 ┆ Score-2 ┆ Score-1 ┆ sypnopsis     │\n",
       "│ ---    ┆ ---           ┆ ---   ┆ ---           ┆   ┆ ---     ┆ ---     ┆ ---     ┆ ---           │\n",
       "│ i64    ┆ str           ┆ f64   ┆ str           ┆   ┆ f64     ┆ f64     ┆ f64     ┆ str           │\n",
       "╞════════╪═══════════════╪═══════╪═══════════════╪═══╪═════════╪═════════╪═════════╪═══════════════╡\n",
       "│ 1      ┆ Cowboy Bebop  ┆ 8.78  ┆ Action,       ┆ … ┆ 1357.0  ┆ 741.0   ┆ 1580.0  ┆ In the year   │\n",
       "│        ┆               ┆       ┆ Adventure,    ┆   ┆         ┆         ┆         ┆ 2071,         │\n",
       "│        ┆               ┆       ┆ Comedy, Dra…  ┆   ┆         ┆         ┆         ┆ humanity has… │\n",
       "│ 5      ┆ Cowboy Bebop: ┆ 8.39  ┆ Action,       ┆ … ┆ 221.0   ┆ 109.0   ┆ 379.0   ┆ other day,    │\n",
       "│        ┆ Tengoku no    ┆       ┆ Drama,        ┆   ┆         ┆         ┆         ┆ another       │\n",
       "│        ┆ Tobir…        ┆       ┆ Mystery,      ┆   ┆         ┆         ┆         ┆ bounty—such…  │\n",
       "│        ┆               ┆       ┆ Sci-Fi…       ┆   ┆         ┆         ┆         ┆               │\n",
       "│ 6      ┆ Trigun        ┆ 8.24  ┆ Action,       ┆ … ┆ 664.0   ┆ 316.0   ┆ 533.0   ┆ Vash the      │\n",
       "│        ┆               ┆       ┆ Sci-Fi,       ┆   ┆         ┆         ┆         ┆ Stampede is   │\n",
       "│        ┆               ┆       ┆ Adventure,    ┆   ┆         ┆         ┆         ┆ the man w…    │\n",
       "│        ┆               ┆       ┆ Com…          ┆   ┆         ┆         ┆         ┆               │\n",
       "└────────┴───────────────┴───────┴───────────────┴───┴─────────┴─────────┴─────────┴───────────────┘"
      ]
     },
     "execution_count": 26,
     "metadata": {},
     "output_type": "execute_result"
    }
   ],
   "source": [
    "anime_df.head(3)"
   ]
  },
  {
   "cell_type": "code",
   "execution_count": 27,
   "id": "7a6a91fe",
   "metadata": {},
   "outputs": [
    {
     "data": {
      "text/html": [
       "<div><style>\n",
       ".dataframe > thead > tr,\n",
       ".dataframe > tbody > tr {\n",
       "  text-align: right;\n",
       "  white-space: pre-wrap;\n",
       "}\n",
       "</style>\n",
       "<small>shape: (1, 36)</small><table border=\"1\" class=\"dataframe\"><thead><tr><th>MAL_ID</th><th>Name</th><th>Score</th><th>Genres</th><th>English name</th><th>Japanese name</th><th>Type</th><th>Episodes</th><th>Aired</th><th>Premiered</th><th>Producers</th><th>Licensors</th><th>Studios</th><th>Source</th><th>Duration</th><th>Rating</th><th>Ranked</th><th>Popularity</th><th>Members</th><th>Favorites</th><th>Watching</th><th>Completed</th><th>On-Hold</th><th>Dropped</th><th>Plan to Watch</th><th>Score-10</th><th>Score-9</th><th>Score-8</th><th>Score-7</th><th>Score-6</th><th>Score-5</th><th>Score-4</th><th>Score-3</th><th>Score-2</th><th>Score-1</th><th>sypnopsis</th></tr><tr><td>u32</td><td>u32</td><td>u32</td><td>u32</td><td>u32</td><td>u32</td><td>u32</td><td>u32</td><td>u32</td><td>u32</td><td>u32</td><td>u32</td><td>u32</td><td>u32</td><td>u32</td><td>u32</td><td>u32</td><td>u32</td><td>u32</td><td>u32</td><td>u32</td><td>u32</td><td>u32</td><td>u32</td><td>u32</td><td>u32</td><td>u32</td><td>u32</td><td>u32</td><td>u32</td><td>u32</td><td>u32</td><td>u32</td><td>u32</td><td>u32</td><td>u32</td></tr></thead><tbody><tr><td>0</td><td>0</td><td>5123</td><td>63</td><td>9621</td><td>45</td><td>37</td><td>477</td><td>308</td><td>11469</td><td>7458</td><td>12467</td><td>6165</td><td>3318</td><td>551</td><td>688</td><td>414</td><td>0</td><td>0</td><td>0</td><td>0</td><td>0</td><td>0</td><td>0</td><td>0</td><td>436</td><td>3154</td><td>1363</td><td>501</td><td>509</td><td>582</td><td>974</td><td>1304</td><td>1595</td><td>457</td><td>8</td></tr></tbody></table></div>"
      ],
      "text/plain": [
       "shape: (1, 36)\n",
       "┌────────┬──────┬───────┬────────┬───┬─────────┬─────────┬─────────┬───────────┐\n",
       "│ MAL_ID ┆ Name ┆ Score ┆ Genres ┆ … ┆ Score-3 ┆ Score-2 ┆ Score-1 ┆ sypnopsis │\n",
       "│ ---    ┆ ---  ┆ ---   ┆ ---    ┆   ┆ ---     ┆ ---     ┆ ---     ┆ ---       │\n",
       "│ u32    ┆ u32  ┆ u32   ┆ u32    ┆   ┆ u32     ┆ u32     ┆ u32     ┆ u32       │\n",
       "╞════════╪══════╪═══════╪════════╪═══╪═════════╪═════════╪═════════╪═══════════╡\n",
       "│ 0      ┆ 0    ┆ 5123  ┆ 63     ┆ … ┆ 1304    ┆ 1595    ┆ 457     ┆ 8         │\n",
       "└────────┴──────┴───────┴────────┴───┴─────────┴─────────┴─────────┴───────────┘"
      ]
     },
     "execution_count": 27,
     "metadata": {},
     "output_type": "execute_result"
    }
   ],
   "source": [
    "anime_df.null_count()"
   ]
  }
 ],
 "metadata": {
  "kernelspec": {
   "display_name": ".venv",
   "language": "python",
   "name": "python3"
  },
  "language_info": {
   "codemirror_mode": {
    "name": "ipython",
    "version": 3
   },
   "file_extension": ".py",
   "mimetype": "text/x-python",
   "name": "python",
   "nbconvert_exporter": "python",
   "pygments_lexer": "ipython3",
   "version": "3.11.8"
  }
 },
 "nbformat": 4,
 "nbformat_minor": 5
}
